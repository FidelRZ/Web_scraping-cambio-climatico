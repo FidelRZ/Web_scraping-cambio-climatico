{
 "cells": [
  {
   "cell_type": "code",
   "execution_count": 23,
   "id": "357cb66e-515c-4c3e-ad4a-7eea1079a9e6",
   "metadata": {},
   "outputs": [],
   "source": [
    "from selenium import webdriver\n",
    "import pandas as pd\n",
    "from selenium.webdriver.common.by import By\n",
    "from selenium.webdriver.chrome.service import Service\n",
    "from webdriver_manager.chrome import ChromeDriverManager\n",
    "import time"
   ]
  },
  {
   "cell_type": "code",
   "execution_count": 24,
   "id": "28441146-1b4f-4e9c-b712-0b8d87847bef",
   "metadata": {},
   "outputs": [],
   "source": [
    "website='https://datosmacro.expansion.com/energia-y-medio-ambiente/emisiones-co2'\n",
    "path='D:/chromedriver_win32/chromedriver.exe'"
   ]
  },
  {
   "cell_type": "code",
   "execution_count": 25,
   "id": "23d70edf-393b-4b53-8553-360f30b282f8",
   "metadata": {},
   "outputs": [
    {
     "name": "stderr",
     "output_type": "stream",
     "text": [
      "\n",
      "\n",
      "====== WebDriver manager ======\n",
      "Current google-chrome version is 100.0.4896\n",
      "Get LATEST chromedriver version for 100.0.4896 google-chrome\n",
      "Driver [C:\\Users\\DELL\\.wdm\\drivers\\chromedriver\\win32\\100.0.4896.60\\chromedriver.exe] found in cache\n"
     ]
    }
   ],
   "source": [
    "#driver=webdriver.Chrome(path)\n",
    "driver = webdriver.Chrome(service=Service(ChromeDriverManager().install()))\n",
    "driver.get(website)"
   ]
  },
  {
   "cell_type": "code",
   "execution_count": 26,
   "id": "24ed70a4-120d-411b-ad99-3310bc4fded5",
   "metadata": {},
   "outputs": [
    {
     "name": "stdout",
     "output_type": "stream",
     "text": [
      "                   0        1     2     3 4         5\n",
      "0         España [+]  214,847  0,13  4,62     -16,05%\n",
      "1       Alemania [+]  636,876  0,15  7,72      -9,41%\n",
      "2    Reino Unido [+]  313,729  0,11  4,66     -13,20%\n",
      "3        Francia [+]  279,991  0,10  4,26     -12,72%\n",
      "4         Italia [+]  297,352  0,13  5,03     -10,54%\n",
      "..               ...      ...   ...   ... ..      ...\n",
      "179        Samoa [+]    0,355  0,28  1,78      -2,70%\n",
      "180        Yemen [+]   10,318  0,21  0,34      -5,18%\n",
      "181    Sudáfrica [+]  435,127  0,64  7,41      -8,04%\n",
      "182       Zambia [+]    7,501  0,12  0,40      -9,99%\n",
      "183     Zimbabue [+]   11,559  0,28  0,65      -6,24%\n",
      "\n",
      "[184 rows x 6 columns]\n",
      "No existe el enlace\n"
     ]
    }
   ],
   "source": [
    "while(True):\n",
    "    time.sleep(30)\n",
    "    try:\n",
    "        btn=driver.find_element(by=By.ID,value=\"didomi-notice-agree-button\")\n",
    "        btn.click()\n",
    "    except:\n",
    "        print(\"No hay cookies\")\n",
    "    \n",
    "    filas=len(driver.find_elements(By.XPATH, value='//*[@id=\"tb1\"]/tbody/tr'))\n",
    "    cols=len(driver.find_elements(By.XPATH, value='//*[@id=\"tb1\"]/tbody/tr[1]/td'))\n",
    "\n",
    "    fila=\"\"\n",
    "    datos=[]\n",
    "    for f in range(1,filas+1):\n",
    "        datos.append([])\n",
    "        for c in range(1,cols+1):\n",
    "            dato=driver.find_element(By.XPATH,value='//*[@id=\"tb1\"]/tbody/tr['+str(f)+']/td['+str(c)+']').text\n",
    "            datos[f-1].append(dato)\n",
    "            #fila+=str(dato)+\";\"\n",
    "        #datos.append(fila)\n",
    "        #fila=\"\"\n",
    "    \n",
    "    df=pd.DataFrame(datos)\n",
    "    print(df)\n",
    "    df.to_csv('emisionCO2.csv',index=False)\n",
    "    time.sleep(30)\n",
    "    try:\n",
    "        enlace = driver.find_element(by=By.PARTIAL_LINK_TEXT,value='20').click()\n",
    "    except:\n",
    "        print(\"No existe el enlace\")\n",
    "        break;"
   ]
  },
  {
   "cell_type": "code",
   "execution_count": null,
   "id": "64bc13bc-913c-4605-ba3b-efe22be5cd8b",
   "metadata": {},
   "outputs": [],
   "source": [
    "\n"
   ]
  },
  {
   "cell_type": "code",
   "execution_count": 54,
   "id": "f19bb997-6a1b-4d11-92ee-1902aa6c2b13",
   "metadata": {},
   "outputs": [],
   "source": [
    "driver.quit() "
   ]
  },
  {
   "cell_type": "code",
   "execution_count": null,
   "id": "fb9278f9-28f1-4e4f-af4d-ee67332ed353",
   "metadata": {},
   "outputs": [],
   "source": []
  }
 ],
 "metadata": {
  "kernelspec": {
   "display_name": "Python 3",
   "language": "python",
   "name": "python3"
  },
  "language_info": {
   "codemirror_mode": {
    "name": "ipython",
    "version": 3
   },
   "file_extension": ".py",
   "mimetype": "text/x-python",
   "name": "python",
   "nbconvert_exporter": "python",
   "pygments_lexer": "ipython3",
   "version": "3.8.8"
  }
 },
 "nbformat": 4,
 "nbformat_minor": 5
}
